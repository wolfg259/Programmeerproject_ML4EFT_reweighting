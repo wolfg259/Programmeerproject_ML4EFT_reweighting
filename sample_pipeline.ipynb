{
 "cells": [
  {
   "cell_type": "markdown",
   "metadata": {},
   "source": [
    "# Reweighting execution pipeline example\n",
    "### Wolf Gautier\n",
    "This notebook contains a start-to-finish sample pipeline for working with the ML4EFT framework in reweighted form. It assumes that all dependencies (including LHAPDF) are installed properly, and that you are working with one or more Les Houches event files (.lhe)."
   ]
  },
  {
   "cell_type": "markdown",
   "metadata": {},
   "source": [
    "## 1. Extracting observables and weights\n",
    "Having obtained a sample simulated .lhe event file, the proper observables first have to be constructed from the raw data, and the weights should be extracted alongside them. This is done with the pylhe library, as demonstrated in the code below that makes use (original taken from J. ter Hoeve, reworked). Here, the invariant mass $m_{tt}$ is extracted from simulated $t, \\bar{t}$-collisions, alongside the weights for two points in the parameter space of some Wilson coefficient."
   ]
  },
  {
   "cell_type": "code",
   "execution_count": null,
   "metadata": {
    "vscode": {
     "languageId": "plaintext"
    }
   },
   "outputs": [],
   "source": [
    "import pandas as pd\n",
    "import pylhe\n",
    "import ml4eft.preproc.lhe_reader as lhe\n",
    "\n",
    "path_to_lhe_file = \"<your path here>\"\n",
    "\n",
    "# read .lhe\n",
    "lhe_init = pylhe.read_lhe_init(path_to_lhe_file)\n",
    "\n",
    "# generate empty lists for storing event values and weights\n",
    "events = list()\n",
    "weight_values_sm = list()\n",
    "weight_values_eft = list()\n",
    "\n",
    "for e in pylhe.read_lhe_with_attributes(path_to_lhe):\n",
    "\n",
    "\t# create particle instances\n",
    "\tfor part in e.particles:\n",
    "\t\tif part.id == 6: # t\n",
    "\t\t\tt = lhe.Kinematics(part)\n",
    "\n",
    "\t\telif part.id == -6: #tbar\n",
    "\t\t\ttbar = lhe.Kinematics(part)\n",
    "\n",
    "\t# create particle systems\n",
    "\ttt = t + tbar\n",
    "\n",
    "\t# append kinematics, weights\n",
    "\tevents.append([tt.get_inv_mass() * 1e-3]) # normalised\n",
    "\tweight_values_sm.append(e.eventinfo.weight)\n",
    "\tweight_values_eft.append([e.weights['<weight 1>'], \n",
    "\t\t\t\t\t\t\t\te.weights['<weight 2']])\n",
    "\n",
    "# generate pandas dataframes\t\n",
    "df_events = pd.DataFrame(events, columns=['m_tt'])\n",
    "df_weights_sm = pd.DataFrame(weight_values_sm, columns=['weight'])\n",
    "df_weights_eft = pd.DataFrame(weight_values_eft, columns=['<w1>', '<w2>'])\n",
    "\n",
    "# save events\n",
    "df_events.to_pickle('<your location>', compression='gzip')\n",
    "df_weights_sm.to_pickle('<your location>', compression='gzip')\n",
    "df_weights_eft.to_pickle('<your location>', compression='gzip')\n",
    "\t\t\t\t\t   "
   ]
  },
  {
   "cell_type": "markdown",
   "metadata": {},
   "source": [
    "## 2. Training a model\n",
    "Now that the training data and weights are collected in the correct format, they can be fed to a model with the correct settings (see [ML4EFT documentation site](https://lhcfitnikhef.github.io/ML4EFT)). Assuming you have a .json file with the settings you desire to train with, you can now initialise a model and train it."
   ]
  },
  {
   "cell_type": "code",
   "execution_count": null,
   "metadata": {
    "vscode": {
     "languageId": "plaintext"
    }
   },
   "outputs": [],
   "source": [
    "import ml4eft.core.classifier as classifier\n",
    "\n",
    "# coefficients to train in sequence\n",
    "coeffs = ['ctGRe', 'cHu']\n",
    "# path to .json containing settings\n",
    "runcard = \"<your path>\"\n",
    "# path where models will be saved\n",
    "output_dir = \"<your path>\"\n",
    "\n",
    "# train model for all provided coefficients\n",
    "for coefficient in coeffs:\n",
    "\t\tfitter = classifier.Fitter(\n",
    "\t\t\tjson_path = runcard,\n",
    "\t\t\tmc_run = 1,\n",
    "\t\t\tc_name = coefficient, \n",
    "\t\t\toutput_dir = output_dir,\n",
    "\t\t\tprint_log=True\n",
    "\t\t)"
   ]
  },
  {
   "cell_type": "markdown",
   "metadata": {},
   "source": [
    "## 3. Sampling output\n",
    "Now that a trained model is present in the specified output directory, its output can be sampled and compared to benchmark true values by initialising it again."
   ]
  },
  {
   "cell_type": "code",
   "execution_count": null,
   "metadata": {
    "vscode": {
     "languageId": "plaintext"
    }
   },
   "outputs": [],
   "source": [
    "import numpy as np\n",
    "import torch\n",
    "import matplotlib.pyplot as plt\n",
    "from ml4eft.core.analyse import analyse\n",
    "\n",
    "# sample observable values for plotting\n",
    "x = np.linspace(1.45, 3, 100).reshape(-1, 1)\n",
    "df_features = pd.DataFrame(x, columns=['m_tt'])\n",
    "\n",
    "# obtain truth values for comparison\n",
    "r1_truth = analyse.Analyse.likelihood_ratio_truth(df_features,\n",
    "\t\t\t\t\t\t\t\t\t\t\t\t\t{'c_val_1': -2, 'c_val_2': 2},\n",
    "\t\t\t\t\t\t\t\t\t\t\t\t\tprocess='tt',\n",
    "\t\t\t\t\t\t\t\t\t\t\t\t   \torder='lin')\n",
    "NN1_truth = (r1_truth - 1) / (-2)\n",
    "\n",
    "# initialise trained model with right architecture\n",
    "architecture = [1, 10, 10, 10, 1] # layer 1 = 1 node, layer 2 = 10...\n",
    "network_path = \"<your path>\"\n",
    "loaded_model = classifier.Classifier(architecture)\n",
    "loaded_model.load_state_dict(torch.load(network_path))\n",
    "\n",
    "# scale features to match those used in training\n",
    "path_to_scaler = \"<your path>\" # in model directory\n",
    "scaler = joblib.load(path_to_scaler)\n",
    "features_scaled = scaler.transform(df_features)\n",
    "features_as_tensor = torch.tensor(features_scaled)\n",
    "\n",
    "# obtain model outputs\n",
    "with torch.no_grad():\n",
    "\t# linear contributions\n",
    "\tNN_lin = loaded_model.n_alpha_1(features_as_tensor)\n",
    "\t# quadratic contribution\n",
    "\tNN_quad = loaded_model.n_alpha_2(features_as_tensor)\n",
    "\n",
    "# plot comparison\n",
    "plt.plot(x, NN_lin, label='linear')\n",
    "plt.plot(x, NN_quad, label='quadratic')\n",
    "plt.plot(x, NN1_truth, label='Truth (ctG)', linestyle='dotted')\n",
    "\n",
    "# plot settings\n",
    "plt.xlabel('Invariant Mass of t bar [TeV]')\n",
    "plt.legend()\n",
    "plt.savefig(\"<your path>\")"
   ]
  },
  {
   "cell_type": "markdown",
   "metadata": {},
   "source": [
    "Congratulations! You have now performed an unbinned fit of Wilson coefficients of your choosing."
   ]
  }
 ],
 "metadata": {
  "language_info": {
   "name": "python"
  }
 },
 "nbformat": 4,
 "nbformat_minor": 2
}
